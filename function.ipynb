{
 "cells": [
  {
   "cell_type": "code",
   "execution_count": 6,
   "metadata": {},
   "outputs": [
    {
     "name": "stdout",
     "output_type": "stream",
     "text": [
      "Invalid operation\n"
     ]
    }
   ],
   "source": [
    "def calc():\n",
    "    a=int(input(\"Enter a :\"))\n",
    "    b=int(input(\"ENter b :\"))\n",
    "    operation=str(input(\"add/sub/mul/div\"))\n",
    "    if(operation=='add'):\n",
    "        print(\"Addtion value is :\",a+b)\n",
    "    elif(operation=='sub'):\n",
    "        print(\"Subtraction value is :\",a-b)\n",
    "    elif(operation=='div'):\n",
    "        print(\"Division value is :\",a/b)\n",
    "    elif(operation=='mul'):\n",
    "        print(\"Multiplication value is:\",a*b)\n",
    "    else:\n",
    "        print(\"Invalid operation\")\n",
    "\n",
    "calc()"
   ]
  },
  {
   "cell_type": "code",
   "execution_count": 12,
   "metadata": {},
   "outputs": [
    {
     "name": "stdout",
     "output_type": "stream",
     "text": [
      "Addition\n",
      "30\n"
     ]
    }
   ],
   "source": [
    "def add(a,b):\n",
    "    print(\"Addition\")\n",
    "    print(a+b)\n",
    "\n",
    "add(10,20)"
   ]
  },
  {
   "cell_type": "code",
   "execution_count": 16,
   "metadata": {},
   "outputs": [
    {
     "name": "stdout",
     "output_type": "stream",
     "text": [
      "Multiplication value is: 200\n"
     ]
    }
   ],
   "source": [
    "def calc(operation):\n",
    "    a=int(input())\n",
    "    b=int(input())\n",
    "    if(operation=='add'):\n",
    "        print(\"Addtion value is :\",a+b)\n",
    "    elif(operation=='sub'):\n",
    "        print(\"Subtraction value is :\",a-b)\n",
    "    elif(operation=='div'):\n",
    "        print(\"Division value is :\",a/b)\n",
    "    elif(operation=='mul'):\n",
    "        print(\"Multiplication value is:\",a*b)\n",
    "    else:\n",
    "        print(\"Invalid operation\")\n",
    "\n",
    "calc('mul')"
   ]
  },
  {
   "cell_type": "code",
   "execution_count": 23,
   "metadata": {},
   "outputs": [
    {
     "name": "stdout",
     "output_type": "stream",
     "text": [
      "1 even\n",
      "2 odd\n",
      "3 even\n",
      "4 odd\n"
     ]
    }
   ],
   "source": [
    "def findoddoreven(v):\n",
    "\n",
    "    if(v%2==0):\n",
    "        print(v,\"odd\")\n",
    "    else:\n",
    "        print(v,\"even\")\n",
    "\n",
    "\n",
    "for v in range(1,5):\n",
    "    findoddoreven(v)"
   ]
  },
  {
   "cell_type": "code",
   "execution_count": 32,
   "metadata": {},
   "outputs": [
    {
     "name": "stdout",
     "output_type": "stream",
     "text": [
      "ODD : 1\n",
      "EVEN : 2\n",
      "ODD : 3\n",
      "EVEN : 4\n"
     ]
    }
   ],
   "source": [
    "def findoddoreven(r1,r2):\n",
    "    for v in range(r1,r2):\n",
    "        if(v%2==0):\n",
    "            print(\"EVEN :\",v)\n",
    "        else:\n",
    "            print(\"ODD :\",v)\n",
    "a=int(input(\"A :\"))\n",
    "b=int(input(\"B: \"))\n",
    "findoddoreven(a,b)"
   ]
  },
  {
   "cell_type": "code",
   "execution_count": 34,
   "metadata": {},
   "outputs": [
    {
     "name": "stdout",
     "output_type": "stream",
     "text": [
      "Pass 56\n"
     ]
    }
   ],
   "source": [
    "def result(a):\n",
    "    if(a>=35):\n",
    "        print(\"Pass\",a)\n",
    "    else:\n",
    "        print(\"Fail\",a)\n",
    "\n",
    "a=int(input())\n",
    "result(a)"
   ]
  },
  {
   "cell_type": "code",
   "execution_count": 17,
   "metadata": {},
   "outputs": [
    {
     "name": "stdout",
     "output_type": "stream",
     "text": [
      "\n",
      "* \n",
      "* * \n",
      "* * * "
     ]
    }
   ],
   "source": [
    "for v in range(1,4):\n",
    "    print()\n",
    "    for f in range(1,v+1):\n",
    "        print(\"*\",end=\" \")\n"
   ]
  },
  {
   "cell_type": "code",
   "execution_count": 13,
   "metadata": {},
   "outputs": [
    {
     "name": "stdout",
     "output_type": "stream",
     "text": [
      "\n",
      "1 \n",
      "1 2 \n",
      "1 2 3 "
     ]
    }
   ],
   "source": [
    "for v in range(1, 4):\n",
    "    print()\n",
    "    for j in range(1, v + 1):\n",
    "        print(j, end=\" \")"
   ]
  },
  {
   "cell_type": "code",
   "execution_count": 21,
   "metadata": {},
   "outputs": [
    {
     "name": "stdout",
     "output_type": "stream",
     "text": [
      "2 4\n",
      "2 4\n",
      "2 4\n"
     ]
    }
   ],
   "source": [
    "a1 = input().strip()\n",
    "b1 = input().strip()\n",
    "c1 = input().strip()\n",
    "\n",
    "\n",
    "print(a1)\n",
    "print(b1)\n",
    "print(c1)\n"
   ]
  }
 ],
 "metadata": {
  "kernelspec": {
   "display_name": "Python 3",
   "language": "python",
   "name": "python3"
  },
  "language_info": {
   "codemirror_mode": {
    "name": "ipython",
    "version": 3
   },
   "file_extension": ".py",
   "mimetype": "text/x-python",
   "name": "python",
   "nbconvert_exporter": "python",
   "pygments_lexer": "ipython3",
   "version": "3.12.2"
  }
 },
 "nbformat": 4,
 "nbformat_minor": 2
}
